{
 "cells": [
  {
   "cell_type": "code",
   "execution_count": 1,
   "metadata": {
    "dotnet_interactive": {
     "language": "csharp"
    },
    "polyglot_notebook": {
     "kernelName": "csharp"
    }
   },
   "outputs": [],
   "source": [
    "// Reference the Jinaga NuGet packages\n",
    "// #r \"nuget: Jinaga, 1.0.0\"\n",
    "// #r \"nuget: Jinaga.Notebooks, 1.0.0\"\n",
    "// #r \"nuget: Jinaga.UnitTest, 1.0.0\"\n",
    "\n",
    "#r \"nuget: Jinaga, 1.1.20\"\n",
    "#r \"nuget: Jinaga.Notebooks, 1.1.5\"\n",
    "#r \"nuget: Jinaga.UnitTest, 1.1.2\""
   ]
  },
  {
   "cell_type": "code",
   "execution_count": 2,
   "metadata": {
    "dotnet_interactive": {
     "language": "csharp"
    },
    "polyglot_notebook": {
     "kernelName": "csharp"
    }
   },
   "outputs": [],
   "source": [
    "using Jinaga;\n",
    "using Jinaga.Notebooks;\n",
    "using Jinaga.UnitTest;"
   ]
  }
 ],
 "metadata": {
  "kernelspec": {
   "display_name": ".NET (C#)",
   "language": "C#",
   "name": ".net-csharp"
  },
  "polyglot_notebook": {
   "kernelInfo": {
    "defaultKernelName": "csharp",
    "items": [
     {
      "aliases": [],
      "languageName": "csharp",
      "name": "csharp"
     }
    ]
   }
  }
 },
 "nbformat": 4,
 "nbformat_minor": 2
}
