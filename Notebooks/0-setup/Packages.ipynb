{
 "cells": [
  {
   "cell_type": "code",
   "execution_count": 1,
   "metadata": {
    "dotnet_interactive": {
     "language": "csharp"
    },
    "polyglot_notebook": {
     "kernelName": "csharp"
    }
   },
   "outputs": [
    {
     "data": {
      "text/html": [
       "<div><div></div><div></div><div><strong>Installed Packages</strong><ul><li><span>Jinaga, 1.0.0</span></li><li><span>Jinaga.Notebooks, 1.0.0</span></li><li><span>Jinaga.UnitTest, 1.0.0</span></li></ul></div></div>"
      ]
     },
     "metadata": {},
     "output_type": "display_data"
    }
   ],
   "source": [
    "// Reference the Jinaga NuGet packages\n",
    "#r \"nuget: Jinaga, 1.0.0\"\n",
    "#r \"nuget: Jinaga.Notebooks, 1.0.0\"\n",
    "#r \"nuget: Jinaga.UnitTest, 1.0.0\""
   ]
  },
  {
   "cell_type": "code",
   "execution_count": 2,
   "metadata": {},
   "outputs": [],
   "source": [
    "using Jinaga;\n",
    "using Jinaga.Notebooks;\n",
    "using Jinaga.UnitTest;"
   ]
  }
 ],
 "metadata": {
  "kernelspec": {
   "display_name": ".NET (C#)",
   "language": "C#",
   "name": ".net-csharp"
  },
  "polyglot_notebook": {
   "kernelInfo": {
    "defaultKernelName": "csharp",
    "items": [
     {
      "aliases": [],
      "languageName": "csharp",
      "name": "csharp"
     }
    ]
   }
  }
 },
 "nbformat": 4,
 "nbformat_minor": 2
}
